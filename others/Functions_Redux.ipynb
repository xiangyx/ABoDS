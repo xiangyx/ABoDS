{
 "cells": [
  {
   "cell_type": "code",
   "execution_count": 31,
   "source": [
    "import numpy as np\r\n",
    "import time"
   ],
   "outputs": [],
   "metadata": {}
  },
  {
   "cell_type": "code",
   "execution_count": 32,
   "source": [
    "def runTime(func):\r\n",
    "    def wrapper(*args):\r\n",
    "        t0 = time.time()\r\n",
    "        res = func(*args)\r\n",
    "        print(f\"RunTime: {time.time() - t0 :.10f}\")\r\n",
    "        return res\r\n",
    "    return wrapper\r\n",
    "\r\n",
    "@runTime\r\n",
    "def seqSum(x):\r\n",
    "    sum = 0\r\n",
    "    for i in range(len(x)):\r\n",
    "        sum += x[i]\r\n",
    "    return sum\r\n",
    "\r\n",
    "@runTime\r\n",
    "def seqSumFast(x):\r\n",
    "    return (x[0] + x[-1]) * len(x) // 2\r\n"
   ],
   "outputs": [],
   "metadata": {}
  },
  {
   "cell_type": "code",
   "execution_count": 33,
   "source": [
    "x = np.array(list(range(1, 10000, 2)))\r\n",
    "sum1 = seqSum(x)\r\n",
    "print(f\"Slow implementation, sum = {sum1}\")\r\n",
    "sum2 = seqSumFast(x)\r\n",
    "print(f\"Fast implementation, sum = {sum2}\")"
   ],
   "outputs": [
    {
     "output_type": "stream",
     "name": "stdout",
     "text": [
      "RunTime: 0.0029802322\n",
      "Slow implementation, sum = 25000000\n",
      "RunTime: 0.0000000000\n",
      "Fast implementation, sum = 25000000\n"
     ]
    }
   ],
   "metadata": {}
  },
  {
   "cell_type": "code",
   "execution_count": null,
   "source": [],
   "outputs": [],
   "metadata": {}
  }
 ],
 "metadata": {
  "orig_nbformat": 4,
  "language_info": {
   "name": "python",
   "version": "3.9.7",
   "mimetype": "text/x-python",
   "codemirror_mode": {
    "name": "ipython",
    "version": 3
   },
   "pygments_lexer": "ipython3",
   "nbconvert_exporter": "python",
   "file_extension": ".py"
  },
  "kernelspec": {
   "name": "python3",
   "display_name": "Python 3.9.7 64-bit (windows store)"
  },
  "interpreter": {
   "hash": "306afac584fe4c76337f431b3b0ec4897c5708cf49ab33064d91600cb57ffdd8"
  }
 },
 "nbformat": 4,
 "nbformat_minor": 2
}