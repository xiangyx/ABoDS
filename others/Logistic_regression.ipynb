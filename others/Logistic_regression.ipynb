{
 "cells": [
  {
   "cell_type": "code",
   "execution_count": 1,
   "source": [
    "import numpy as np\r\n",
    "import re\r\n",
    "import random\r\n",
    "import matplotlib.pyplot as plt"
   ],
   "outputs": [],
   "metadata": {}
  },
  {
   "cell_type": "code",
   "execution_count": 2,
   "source": [
    "def loadData(filePath, ratio):\r\n",
    "    trainingData = [ ]\r\n",
    "    testData = [ ]\r\n",
    "    with open(filePath) as f:\r\n",
    "        for line in f:\r\n",
    "            line = line.rstrip('\\n')\r\n",
    "            line = re.split(r\"  [0-9]:| [0-9]:\", line)\r\n",
    "            line = [float(i) for i in line]\r\n",
    "            if random.random() < ratio:\r\n",
    "                trainingData.append(line)\r\n",
    "            else:\r\n",
    "                testData.append(line)\r\n",
    "    return trainingData, testData\r\n",
    "\r\n",
    "def splitData(dataSet):\r\n",
    "    features = [ ]\r\n",
    "    label = [ ]\r\n",
    "    n = len(dataSet)\r\n",
    "    for i in range(n):\r\n",
    "        features.append(dataSet[i][1: ])\r\n",
    "        label.append(dataSet[i][0])\r\n",
    "    return np.array(features), np.array(label).reshape(n, 1)\r\n",
    "\r\n",
    "\r\n",
    "def standardizeData(train, test):\r\n",
    "    d = train.shape[1]\r\n",
    "    mu = np.mean(train, axis = 0).reshape(1, d)\r\n",
    "    sigma = np.std(train, axis = 0).reshape(1, d)\r\n",
    "    train = (train - mu) / sigma\r\n",
    "    test = (test - mu) / sigma\r\n",
    "    return train, test\r\n",
    "    \r\n",
    "def objective(w, X, y, lam):\r\n",
    "    yX = np.multiply(y, X)\r\n",
    "    yXw = np.dot(yX, w)\r\n",
    "    vec = np.log(1 + np.exp(-yXw))\r\n",
    "    loss = np.mean(vec)\r\n",
    "    penalty = lam / 2 * np.sum(w * w)\r\n",
    "    return loss + penalty\r\n",
    "\r\n",
    "def gradient(w, X , y , lam):\r\n",
    "    d = X.shape[1]\r\n",
    "    yX = np.multiply(y, X) \r\n",
    "    yXw = np.dot (yX, w) \r\n",
    "    vec1 = np.exp (yXw) \r\n",
    "    vec2 = np.divide(yX, 1 + vec1)\r\n",
    "    vec3 = -np.mean(vec2, axis = 0).reshape(d ,1) \r\n",
    "    g = vec3 + lam * w\r\n",
    "    return g\r\n",
    "\r\n",
    "def gradientSlow(w, X, y, lam):\r\n",
    "    n, d = X.shape\r\n",
    "    res = np.zeros((1, d))\r\n",
    "    for i in range(len(y)):\r\n",
    "        res -= (y[i] * X[i:i+1, :]) / (1 + np.exp(y[i] * np.dot(X[i:i+1, :], w)))\r\n",
    "    return res.reshape((d, 1)) / n + lam * w\r\n",
    "\r\n",
    "# def gradientMy_new(w, X, y, lam):\r\n",
    "#     n, d = X.shape\r\n",
    "#     res = np.zeros(d)\r\n",
    "#     for i in range(len(y)):\r\n",
    "#         res -= (y[i] * X[i]) / (1 + np.exp(y[i] * (X[i] @ w)))\r\n",
    "#     return (res / n + lam * w).reshape((d, 1))\r\n",
    "\r\n",
    "def gradientDescent(X, y, lam, alpha, maxIter = 100, w = None):\r\n",
    "    n, d = X.shape\r\n",
    "    objVal = np.zeros((maxIter, ))\r\n",
    "    if w is None: \r\n",
    "        w = np.zeros((d, 1))\r\n",
    "    \r\n",
    "    for k in range(maxIter):\r\n",
    "        objVal[k] = objective(w, X, y, lam)\r\n",
    "        # if k % 10 == 0:\r\n",
    "        #     print(f\"Objective value at epoch {k} is {objVal[k]:.4f}\")\r\n",
    "        w -= alpha * gradient(w, X, y, lam)\r\n",
    "    \r\n",
    "    return w, objVal\r\n",
    "\r\n",
    "def SGD_Obj_Grad(w, xi, yi, lam):\r\n",
    "    yx = yi * xi\r\n",
    "    yxw = float(np.dot(yx, w))\r\n",
    "    loss = np.log(1 + np.exp(-yxw))\r\n",
    "    obj = loss + lam / 2 * np.sum(w * w)\r\n",
    "    grad = -yx.T / (1 + np.exp(yxw)) + lam * w\r\n",
    "    return obj, grad    \r\n",
    "\r\n",
    "def Stochastic_GD(X, y, lam, alpha, maxEpoch = 100, w = None):\r\n",
    "    n, d = X.shape\r\n",
    "    objVal = np.zeros((maxEpoch, ))\r\n",
    "    if w is None:\r\n",
    "        w = np.zeros((d, 1))\r\n",
    "    for k in range(maxEpoch):\r\n",
    "        samp = np.random.permutation(n)\r\n",
    "        X_rand = X[samp, :]\r\n",
    "        y_rand = y[samp, :]\r\n",
    "        objValEpoch = 0\r\n",
    "        for i in range(n):\r\n",
    "            xi = X_rand[i:i+1, :]\r\n",
    "            yi = float(y_rand[i, :])\r\n",
    "            obj, grad = SGD_Obj_Grad(w, xi, yi, lam)\r\n",
    "            objValEpoch += obj\r\n",
    "            w -= alpha * grad\r\n",
    "        alpha *= 0.9\r\n",
    "        objVal[k] = objValEpoch / n\r\n",
    "        # if k % 10 == 0:\r\n",
    "        #     print(f\"Objective value at epoch {k} is {objVal[k]:.4f}\")\r\n",
    "    return w, objVal"
   ],
   "outputs": [],
   "metadata": {}
  },
  {
   "cell_type": "code",
   "execution_count": 3,
   "source": [
    "trainData, testData = loadData(\"..\\\\data\\\\diabetes.txt\", 0.8)\r\n",
    "x_train, y_train = splitData(trainData)\r\n",
    "x_test, y_test = splitData(testData)\r\n",
    "x_train, x_test = standardizeData(x_train, x_test)"
   ],
   "outputs": [],
   "metadata": {}
  },
  {
   "cell_type": "code",
   "execution_count": 4,
   "source": [
    "lam = 1e-6\r\n",
    "w_gd, objVal_gd = gradientDescent(x_train, y_train, lam, alpha = 1.0)\r\n",
    "w_sgd, objVal_sgd = Stochastic_GD(x_train, y_train, lam, alpha = 0.1)"
   ],
   "outputs": [],
   "metadata": {}
  },
  {
   "cell_type": "code",
   "execution_count": 5,
   "source": [
    "epochs_gd = range(len(objVal_gd))\r\n",
    "epochs_sgd = range(len(objVal_sgd))\r\n",
    "line0, = plt.plot(epochs_gd, objVal_gd, \"--b\", linewidth = 4)\r\n",
    "line1, = plt.plot(epochs_sgd, objVal_sgd, \"-r\", linewidth = 2)\r\n",
    "plt.xlabel(\"Epochs\", fontsize = 20)\r\n",
    "plt.ylabel(\"Objective Value\", fontsize = 20)\r\n",
    "plt.xticks(fontsize = 16)\r\n",
    "plt.yticks(fontsize = 16)\r\n",
    "plt.legend([line0, line1], [\"GD\", \"SGD\"], fontsize = 20)\r\n",
    "plt.tight_layout()\r\n",
    "plt.show()"
   ],
   "outputs": [
    {
     "output_type": "display_data",
     "data": {
      "image/png": "[encoded data removed]",
      "text/plain": [
       "<Figure size 432x288 with 1 Axes>"
      ]
     },
     "metadata": {
      "needs_background": "light"
     }
    }
   ],
   "metadata": {}
  },
  {
   "cell_type": "code",
   "execution_count": null,
   "source": [],
   "outputs": [],
   "metadata": {}
  }
 ],
 "metadata": {
  "orig_nbformat": 4,
  "language_info": {
   "name": "python",
   "version": "3.9.7",
   "mimetype": "text/x-python",
   "codemirror_mode": {
    "name": "ipython",
    "version": 3
   },
   "pygments_lexer": "ipython3",
   "nbconvert_exporter": "python",
   "file_extension": ".py"
  },
  "kernelspec": {
   "name": "python3",
   "display_name": "Python 3.9.7 64-bit"
  },
  "interpreter": {
   "hash": "fe44fef87f92f48a3a32707d0df204585f471652bc0ce87358a3ce712bc24db0"
  }
 },
 "nbformat": 4,
 "nbformat_minor": 2
}